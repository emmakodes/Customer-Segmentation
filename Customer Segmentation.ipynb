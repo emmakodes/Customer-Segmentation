{
 "cells": [
  {
   "cell_type": "code",
   "execution_count": 1,
   "metadata": {},
   "outputs": [],
   "source": [
    "#import the necessary packages\n",
    "import pandas as pd \n",
    "import numpy as np\n",
    "import matplotlib.pyplot as plt\n",
    "plt.rcParams['figure.figsize'] = (16, 9)\n",
    "plt.style.use('ggplot')\n",
    "from sklearn.decomposition import PCA\n",
    "from sklearn import preprocessing\n",
    "from sklearn.cluster import KMeans\n",
    "import seaborn as sns; \n",
    "sns.set()\n",
    "%matplotlib inline"
   ]
  },
  {
   "cell_type": "code",
   "execution_count": 2,
   "metadata": {},
   "outputs": [],
   "source": [
    "#read dataset\n",
    "dir_train = 'week3_challenge.csv'\n",
    "dfs = pd.read_csv(dir_train, low_memory = False)"
   ]
  },
  {
   "cell_type": "code",
   "execution_count": 3,
   "metadata": {},
   "outputs": [],
   "source": [
    "#recopied the dataset to another variable\n",
    "df = dfs"
   ]
  },
  {
   "cell_type": "code",
   "execution_count": 4,
   "metadata": {},
   "outputs": [
    {
     "data": {
      "text/plain": [
       "290"
      ]
     },
     "execution_count": 4,
     "metadata": {},
     "output_type": "execute_result"
    }
   ],
   "source": [
    "#number of columns in the full dataset\n",
    "len(df.columns)"
   ]
  },
  {
   "cell_type": "code",
   "execution_count": 5,
   "metadata": {},
   "outputs": [],
   "source": [
    "#drop redundant columns/variables\n",
    "df.drop(['Unnamed: 0','SystemCustomerID','SystemLoanID','__v'], axis=1, inplace = True)"
   ]
  },
  {
   "cell_type": "code",
   "execution_count": 6,
   "metadata": {},
   "outputs": [
    {
     "data": {
      "text/plain": [
       "18"
      ]
     },
     "execution_count": 6,
     "metadata": {},
     "output_type": "execute_result"
    }
   ],
   "source": [
    "#these columns are dropped\n",
    "dfgreaterthan30p = df.loc[:, df.isnull().mean() > .3]\n",
    "len(dfgreaterthan30p.columns)"
   ]
  },
  {
   "cell_type": "code",
   "execution_count": 7,
   "metadata": {},
   "outputs": [
    {
     "data": {
      "text/plain": [
       "268"
      ]
     },
     "execution_count": 7,
     "metadata": {},
     "output_type": "execute_result"
    }
   ],
   "source": [
    "#these are the columns we use which have null values less than or equal to 30%\n",
    "dflessthan30p = df.loc[:, df.isnull().mean() <= .3]\n",
    "len(dflessthan30p.columns)"
   ]
  },
  {
   "cell_type": "code",
   "execution_count": 8,
   "metadata": {},
   "outputs": [
    {
     "data": {
      "text/plain": [
       "array([dtype('int64'), dtype('O'), dtype('bool'), dtype('float64')],\n",
       "      dtype=object)"
      ]
     },
     "execution_count": 8,
     "metadata": {},
     "output_type": "execute_result"
    }
   ],
   "source": [
    "#dtypes of columns\n",
    "dflessthan30p.dtypes.unique() "
   ]
  },
  {
   "cell_type": "code",
   "execution_count": 9,
   "metadata": {},
   "outputs": [],
   "source": [
    "#selected columns with float64,int64 dtypes\n",
    "dfx = dflessthan30p.select_dtypes(include=['float64','int64'])"
   ]
  },
  {
   "cell_type": "code",
   "execution_count": 10,
   "metadata": {},
   "outputs": [
    {
     "data": {
      "text/plain": [
       "245"
      ]
     },
     "execution_count": 10,
     "metadata": {},
     "output_type": "execute_result"
    }
   ],
   "source": [
    "#the number of columns\n",
    "len(dfx.columns)"
   ]
  },
  {
   "cell_type": "code",
   "execution_count": 11,
   "metadata": {},
   "outputs": [],
   "source": [
    "#fill null values with 0\n",
    "dfx = dfx.fillna(0)"
   ]
  },
  {
   "cell_type": "code",
   "execution_count": 12,
   "metadata": {},
   "outputs": [
    {
     "name": "stderr",
     "output_type": "stream",
     "text": [
      "C:\\Users\\Emma\\Anaconda3\\lib\\site-packages\\sklearn\\preprocessing\\data.py:164: UserWarning: Numerical issues were encountered when centering the data and might not be solved. Dataset may contain too large values. You may need to prescale your features.\n",
      "  warnings.warn(\"Numerical issues were encountered \"\n"
     ]
    }
   ],
   "source": [
    "# standardize features\n",
    "#x = StandardScaler().fit_transform(dfx)\n",
    "x = preprocessing.scale(dfx)\n",
    "x = pd.DataFrame(x)\n",
    "x = x.values"
   ]
  },
  {
   "cell_type": "markdown",
   "metadata": {},
   "source": [
    "PCA"
   ]
  },
  {
   "cell_type": "code",
   "execution_count": 13,
   "metadata": {},
   "outputs": [],
   "source": [
    "# create pca\n",
    "pca = PCA(n_components=5)"
   ]
  },
  {
   "cell_type": "code",
   "execution_count": 14,
   "metadata": {},
   "outputs": [],
   "source": [
    "# fit the data to the model\n",
    "principalComponents = pca.fit_transform(x)"
   ]
  },
  {
   "cell_type": "code",
   "execution_count": 15,
   "metadata": {},
   "outputs": [],
   "source": [
    "# create dataframe containing principal components\n",
    "principalDf = pd.DataFrame(data = principalComponents, columns = ['principal component 1', 'principal component 2'\n",
    "                , 'principal component 3', 'principal component 4', 'principal component 5'])"
   ]
  },
  {
   "cell_type": "code",
   "execution_count": 16,
   "metadata": {},
   "outputs": [
    {
     "data": {
      "text/html": [
       "<div>\n",
       "<style scoped>\n",
       "    .dataframe tbody tr th:only-of-type {\n",
       "        vertical-align: middle;\n",
       "    }\n",
       "\n",
       "    .dataframe tbody tr th {\n",
       "        vertical-align: top;\n",
       "    }\n",
       "\n",
       "    .dataframe thead th {\n",
       "        text-align: right;\n",
       "    }\n",
       "</style>\n",
       "<table border=\"1\" class=\"dataframe\">\n",
       "  <thead>\n",
       "    <tr style=\"text-align: right;\">\n",
       "      <th></th>\n",
       "      <th>principal component 1</th>\n",
       "      <th>principal component 2</th>\n",
       "      <th>principal component 3</th>\n",
       "      <th>principal component 4</th>\n",
       "      <th>principal component 5</th>\n",
       "    </tr>\n",
       "  </thead>\n",
       "  <tbody>\n",
       "    <tr>\n",
       "      <th>0</th>\n",
       "      <td>4.222108</td>\n",
       "      <td>-2.281546</td>\n",
       "      <td>0.755765</td>\n",
       "      <td>-1.595385</td>\n",
       "      <td>4.226973</td>\n",
       "    </tr>\n",
       "    <tr>\n",
       "      <th>1</th>\n",
       "      <td>13.462088</td>\n",
       "      <td>-3.664345</td>\n",
       "      <td>-2.140062</td>\n",
       "      <td>-0.890497</td>\n",
       "      <td>-0.205284</td>\n",
       "    </tr>\n",
       "    <tr>\n",
       "      <th>2</th>\n",
       "      <td>5.899029</td>\n",
       "      <td>-2.358166</td>\n",
       "      <td>0.095029</td>\n",
       "      <td>0.483682</td>\n",
       "      <td>0.250615</td>\n",
       "    </tr>\n",
       "    <tr>\n",
       "      <th>3</th>\n",
       "      <td>-1.883213</td>\n",
       "      <td>1.364043</td>\n",
       "      <td>-0.216815</td>\n",
       "      <td>3.303160</td>\n",
       "      <td>0.280666</td>\n",
       "    </tr>\n",
       "    <tr>\n",
       "      <th>4</th>\n",
       "      <td>2.634715</td>\n",
       "      <td>1.757006</td>\n",
       "      <td>0.568668</td>\n",
       "      <td>-2.890805</td>\n",
       "      <td>-0.873507</td>\n",
       "    </tr>\n",
       "  </tbody>\n",
       "</table>\n",
       "</div>"
      ],
      "text/plain": [
       "   principal component 1  principal component 2  principal component 3  \\\n",
       "0               4.222108              -2.281546               0.755765   \n",
       "1              13.462088              -3.664345              -2.140062   \n",
       "2               5.899029              -2.358166               0.095029   \n",
       "3              -1.883213               1.364043              -0.216815   \n",
       "4               2.634715               1.757006               0.568668   \n",
       "\n",
       "   principal component 4  principal component 5  \n",
       "0              -1.595385               4.226973  \n",
       "1              -0.890497              -0.205284  \n",
       "2               0.483682               0.250615  \n",
       "3               3.303160               0.280666  \n",
       "4              -2.890805              -0.873507  "
      ]
     },
     "execution_count": 16,
     "metadata": {},
     "output_type": "execute_result"
    }
   ],
   "source": [
    "principalDf.head()"
   ]
  },
  {
   "cell_type": "code",
   "execution_count": 17,
   "metadata": {},
   "outputs": [
    {
     "data": {
      "text/plain": [
       "array([0.35394189, 0.09382532, 0.03817359, 0.03368653, 0.02755903])"
      ]
     },
     "execution_count": 17,
     "metadata": {},
     "output_type": "execute_result"
    }
   ],
   "source": [
    "pca.explained_variance_ratio_"
   ]
  },
  {
   "cell_type": "code",
   "execution_count": 18,
   "metadata": {},
   "outputs": [
    {
     "data": {
      "text/plain": [
       "0.547186365334793"
      ]
     },
     "execution_count": 18,
     "metadata": {},
     "output_type": "execute_result"
    }
   ],
   "source": [
    "pca.explained_variance_ratio_.sum()"
   ]
  },
  {
   "cell_type": "markdown",
   "metadata": {},
   "source": [
    "KMEANS"
   ]
  },
  {
   "cell_type": "code",
   "execution_count": 19,
   "metadata": {},
   "outputs": [],
   "source": [
    "# declare a Kmeans instance with 3 classes\n",
    "model = KMeans(n_clusters=3, random_state = 0)"
   ]
  },
  {
   "cell_type": "code",
   "execution_count": 20,
   "metadata": {},
   "outputs": [
    {
     "data": {
      "text/plain": [
       "KMeans(algorithm='auto', copy_x=True, init='k-means++', max_iter=300,\n",
       "    n_clusters=3, n_init=10, n_jobs=1, precompute_distances='auto',\n",
       "    random_state=0, tol=0.0001, verbose=0)"
      ]
     },
     "execution_count": 20,
     "metadata": {},
     "output_type": "execute_result"
    }
   ],
   "source": [
    "principalDf = principalDf.values\n",
    "# fit data \n",
    "model.fit(principalDf)"
   ]
  },
  {
   "cell_type": "code",
   "execution_count": 21,
   "metadata": {},
   "outputs": [],
   "source": [
    "# get clusters\n",
    "clusters = model.predict(principalDf)"
   ]
  },
  {
   "cell_type": "code",
   "execution_count": 22,
   "metadata": {},
   "outputs": [
    {
     "data": {
      "image/png": "[encoded data removed]",
      "text/plain": [
       "<Figure size 432x288 with 1 Axes>"
      ]
     },
     "metadata": {},
     "output_type": "display_data"
    }
   ],
   "source": [
    "#Visualising the clusters\n",
    "plt.scatter(principalDf[clusters==0,0], principalDf[clusters==0,1], c='purple', s=50, label='Cluster1')\n",
    "plt.scatter(principalDf[clusters==1,0], principalDf[clusters==1,1], c='blue', s=50, label='Cluster2')\n",
    "plt.scatter(principalDf[clusters==2,0], principalDf[clusters==2,1], c='green', s=50, label='Cluster3')\n",
    "\n",
    "centers = model.cluster_centers_\n",
    "plt.scatter(centers[:, 0], centers[:, 1], marker = 's', c='red', s=200, alpha=0.7, label='Centroids')\n",
    "plt.title('Customer segments')\n",
    "plt.legend()\n",
    "plt.show()"
   ]
  },
  {
   "cell_type": "code",
   "execution_count": 23,
   "metadata": {},
   "outputs": [],
   "source": [
    "#beginning of the cluster numbering with 1 instead of 0\n",
    "clusters1 = clusters\n",
    "clusters1 = clusters + 1"
   ]
  },
  {
   "cell_type": "code",
   "execution_count": 24,
   "metadata": {},
   "outputs": [],
   "source": [
    "#New Dataframe called clusterx\n",
    "clusterx = pd.DataFrame(clusters1)"
   ]
  },
  {
   "cell_type": "markdown",
   "metadata": {},
   "source": [
    "Reconnected the final clusters of each observation to the original dataframe and some exploratory analysis."
   ]
  },
  {
   "cell_type": "code",
   "execution_count": 25,
   "metadata": {},
   "outputs": [],
   "source": [
    "#Adding clusterx to the Original dataset\n",
    "dfs['clusterx'] = clusterx"
   ]
  },
  {
   "cell_type": "code",
   "execution_count": 26,
   "metadata": {},
   "outputs": [
    {
     "name": "stdout",
     "output_type": "stream",
     "text": [
      "MEAN OF INCOME AND VARIOUS FEATURES GROUPBY CLUSTERX\n"
     ]
    },
    {
     "data": {
      "text/html": [
       "<div>\n",
       "<style scoped>\n",
       "    .dataframe tbody tr th:only-of-type {\n",
       "        vertical-align: middle;\n",
       "    }\n",
       "\n",
       "    .dataframe tbody tr th {\n",
       "        vertical-align: top;\n",
       "    }\n",
       "\n",
       "    .dataframe thead th {\n",
       "        text-align: right;\n",
       "    }\n",
       "</style>\n",
       "<table border=\"1\" class=\"dataframe\">\n",
       "  <thead>\n",
       "    <tr style=\"text-align: right;\">\n",
       "      <th></th>\n",
       "      <th>createdAt_Month</th>\n",
       "      <th>income_verified</th>\n",
       "      <th>next_loan_number</th>\n",
       "      <th>Income</th>\n",
       "      <th>score</th>\n",
       "      <th>demofeatures_debt_to_income_ratio</th>\n",
       "      <th>demofeatures_net_income_band</th>\n",
       "      <th>demofeatures_appweek</th>\n",
       "      <th>demofeatures_payweek</th>\n",
       "      <th>demofeatures_age_at_application_yrs</th>\n",
       "      <th>...</th>\n",
       "      <th>callFeatures_vol_calls_2_mnth_out</th>\n",
       "      <th>callFeatures_vol_calls_3_mnth_out</th>\n",
       "      <th>callFeatures_dur_calls_out</th>\n",
       "      <th>callFeatures_dur_calls_contacts_out</th>\n",
       "      <th>callFeatures_ratio_contacts_out</th>\n",
       "      <th>callFeatures_no_distinct_call_numbers_out</th>\n",
       "      <th>callFeatures_no_calls_over_zero_secs_out</th>\n",
       "      <th>callFeatures_no_calls_out</th>\n",
       "      <th>predictedIncome</th>\n",
       "      <th>obiResult_score</th>\n",
       "    </tr>\n",
       "    <tr>\n",
       "      <th>clusterx</th>\n",
       "      <th></th>\n",
       "      <th></th>\n",
       "      <th></th>\n",
       "      <th></th>\n",
       "      <th></th>\n",
       "      <th></th>\n",
       "      <th></th>\n",
       "      <th></th>\n",
       "      <th></th>\n",
       "      <th></th>\n",
       "      <th></th>\n",
       "      <th></th>\n",
       "      <th></th>\n",
       "      <th></th>\n",
       "      <th></th>\n",
       "      <th></th>\n",
       "      <th></th>\n",
       "      <th></th>\n",
       "      <th></th>\n",
       "      <th></th>\n",
       "      <th></th>\n",
       "    </tr>\n",
       "  </thead>\n",
       "  <tbody>\n",
       "    <tr>\n",
       "      <th>1</th>\n",
       "      <td>201834.8</td>\n",
       "      <td>True</td>\n",
       "      <td>1.3</td>\n",
       "      <td>45874.0</td>\n",
       "      <td>0.8</td>\n",
       "      <td>25.5</td>\n",
       "      <td>89461.2</td>\n",
       "      <td>2.4</td>\n",
       "      <td>4.0</td>\n",
       "      <td>29.5</td>\n",
       "      <td>...</td>\n",
       "      <td>15.6</td>\n",
       "      <td>2.9</td>\n",
       "      <td>17859.8</td>\n",
       "      <td>0.8</td>\n",
       "      <td>0.8</td>\n",
       "      <td>73.2</td>\n",
       "      <td>187.8</td>\n",
       "      <td>447.1</td>\n",
       "      <td>37594.7</td>\n",
       "      <td>412.9</td>\n",
       "    </tr>\n",
       "    <tr>\n",
       "      <th>2</th>\n",
       "      <td>201822.6</td>\n",
       "      <td>True</td>\n",
       "      <td>3.6</td>\n",
       "      <td>84844.6</td>\n",
       "      <td>0.9</td>\n",
       "      <td>14.4</td>\n",
       "      <td>125694.4</td>\n",
       "      <td>2.8</td>\n",
       "      <td>3.8</td>\n",
       "      <td>31.5</td>\n",
       "      <td>...</td>\n",
       "      <td>176.1</td>\n",
       "      <td>119.2</td>\n",
       "      <td>540491.6</td>\n",
       "      <td>0.8</td>\n",
       "      <td>0.8</td>\n",
       "      <td>936.6</td>\n",
       "      <td>7127.6</td>\n",
       "      <td>14964.0</td>\n",
       "      <td>57441.2</td>\n",
       "      <td>411.6</td>\n",
       "    </tr>\n",
       "    <tr>\n",
       "      <th>3</th>\n",
       "      <td>201828.6</td>\n",
       "      <td>True</td>\n",
       "      <td>2.6</td>\n",
       "      <td>54904.4</td>\n",
       "      <td>0.8</td>\n",
       "      <td>29.4</td>\n",
       "      <td>103959.5</td>\n",
       "      <td>2.6</td>\n",
       "      <td>3.7</td>\n",
       "      <td>31.9</td>\n",
       "      <td>...</td>\n",
       "      <td>74.9</td>\n",
       "      <td>16.3</td>\n",
       "      <td>114443.5</td>\n",
       "      <td>0.7</td>\n",
       "      <td>0.7</td>\n",
       "      <td>287.7</td>\n",
       "      <td>1419.2</td>\n",
       "      <td>3270.0</td>\n",
       "      <td>43168.3</td>\n",
       "      <td>416.5</td>\n",
       "    </tr>\n",
       "  </tbody>\n",
       "</table>\n",
       "<p>3 rows × 257 columns</p>\n",
       "</div>"
      ],
      "text/plain": [
       "          createdAt_Month  income_verified  next_loan_number   Income  score  \\\n",
       "clusterx                                                                       \n",
       "1                201834.8             True               1.3  45874.0    0.8   \n",
       "2                201822.6             True               3.6  84844.6    0.9   \n",
       "3                201828.6             True               2.6  54904.4    0.8   \n",
       "\n",
       "          demofeatures_debt_to_income_ratio  demofeatures_net_income_band  \\\n",
       "clusterx                                                                    \n",
       "1                                      25.5                       89461.2   \n",
       "2                                      14.4                      125694.4   \n",
       "3                                      29.4                      103959.5   \n",
       "\n",
       "          demofeatures_appweek  demofeatures_payweek  \\\n",
       "clusterx                                               \n",
       "1                          2.4                   4.0   \n",
       "2                          2.8                   3.8   \n",
       "3                          2.6                   3.7   \n",
       "\n",
       "          demofeatures_age_at_application_yrs       ...         \\\n",
       "clusterx                                            ...          \n",
       "1                                        29.5       ...          \n",
       "2                                        31.5       ...          \n",
       "3                                        31.9       ...          \n",
       "\n",
       "          callFeatures_vol_calls_2_mnth_out  \\\n",
       "clusterx                                      \n",
       "1                                      15.6   \n",
       "2                                     176.1   \n",
       "3                                      74.9   \n",
       "\n",
       "          callFeatures_vol_calls_3_mnth_out  callFeatures_dur_calls_out  \\\n",
       "clusterx                                                                  \n",
       "1                                       2.9                     17859.8   \n",
       "2                                     119.2                    540491.6   \n",
       "3                                      16.3                    114443.5   \n",
       "\n",
       "          callFeatures_dur_calls_contacts_out  \\\n",
       "clusterx                                        \n",
       "1                                         0.8   \n",
       "2                                         0.8   \n",
       "3                                         0.7   \n",
       "\n",
       "          callFeatures_ratio_contacts_out  \\\n",
       "clusterx                                    \n",
       "1                                     0.8   \n",
       "2                                     0.8   \n",
       "3                                     0.7   \n",
       "\n",
       "          callFeatures_no_distinct_call_numbers_out  \\\n",
       "clusterx                                              \n",
       "1                                              73.2   \n",
       "2                                             936.6   \n",
       "3                                             287.7   \n",
       "\n",
       "          callFeatures_no_calls_over_zero_secs_out  callFeatures_no_calls_out  \\\n",
       "clusterx                                                                        \n",
       "1                                            187.8                      447.1   \n",
       "2                                           7127.6                    14964.0   \n",
       "3                                           1419.2                     3270.0   \n",
       "\n",
       "          predictedIncome  obiResult_score  \n",
       "clusterx                                    \n",
       "1                 37594.7            412.9  \n",
       "2                 57441.2            411.6  \n",
       "3                 43168.3            416.5  \n",
       "\n",
       "[3 rows x 257 columns]"
      ]
     },
     "execution_count": 26,
     "metadata": {},
     "output_type": "execute_result"
    }
   ],
   "source": [
    "#Mean of income and other clusters groupby clusterx\n",
    "print(\"MEAN OF INCOME AND VARIOUS FEATURES GROUPBY CLUSTERX\")\n",
    "kmeans_mean_cluster = pd.DataFrame(round(dfs.groupby('clusterx').mean(),1))\n",
    "\n",
    "kmeans_mean_cluster"
   ]
  },
  {
   "cell_type": "code",
   "execution_count": null,
   "metadata": {},
   "outputs": [],
   "source": []
  }
 ],
 "metadata": {
  "kernelspec": {
   "display_name": "Python 3",
   "language": "python",
   "name": "python3"
  },
  "language_info": {
   "codemirror_mode": {
    "name": "ipython",
    "version": 3
   },
   "file_extension": ".py",
   "mimetype": "text/x-python",
   "name": "python",
   "nbconvert_exporter": "python",
   "pygments_lexer": "ipython3",
   "version": "3.6.5"
  }
 },
 "nbformat": 4,
 "nbformat_minor": 2
}
